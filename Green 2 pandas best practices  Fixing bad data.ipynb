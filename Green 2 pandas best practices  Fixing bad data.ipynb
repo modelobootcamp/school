{
 "cells": [
  {
   "cell_type": "code",
   "execution_count": 1,
   "metadata": {},
   "outputs": [],
   "source": [
    "import pandas as pd\n",
    "import numpy as np\n"
   ]
  },
  {
   "cell_type": "code",
   "execution_count": 2,
   "metadata": {},
   "outputs": [],
   "source": [
    "grn = pd.read_csv('grn.csv')"
   ]
  },
  {
   "cell_type": "code",
   "execution_count": 3,
   "metadata": {},
   "outputs": [
    {
     "data": {
      "text/html": [
       "<div>\n",
       "<style scoped>\n",
       "    .dataframe tbody tr th:only-of-type {\n",
       "        vertical-align: middle;\n",
       "    }\n",
       "\n",
       "    .dataframe tbody tr th {\n",
       "        vertical-align: top;\n",
       "    }\n",
       "\n",
       "    .dataframe thead th {\n",
       "        text-align: right;\n",
       "    }\n",
       "</style>\n",
       "<table border=\"1\" class=\"dataframe\">\n",
       "  <thead>\n",
       "    <tr style=\"text-align: right;\">\n",
       "      <th></th>\n",
       "      <th>Account</th>\n",
       "      <th>Job</th>\n",
       "      <th>Date</th>\n",
       "      <th>Start</th>\n",
       "      <th>End</th>\n",
       "      <th>Passenger</th>\n",
       "      <th>Pickup</th>\n",
       "      <th>Dropoff</th>\n",
       "      <th>Car</th>\n",
       "      <th>Driver</th>\n",
       "      <th>...</th>\n",
       "      <th>Tariff</th>\n",
       "      <th>Extra1</th>\n",
       "      <th>Extra2</th>\n",
       "      <th>Extra3</th>\n",
       "      <th>Subtotal</th>\n",
       "      <th>E-ticket</th>\n",
       "      <th>E-ticket ref</th>\n",
       "      <th>Discount</th>\n",
       "      <th>FOP</th>\n",
       "      <th>Payable</th>\n",
       "    </tr>\n",
       "  </thead>\n",
       "  <tbody>\n",
       "    <tr>\n",
       "      <th>0</th>\n",
       "      <td>NaN</td>\n",
       "      <td>19752637</td>\n",
       "      <td>01/22/2016</td>\n",
       "      <td>01/22/2016 17:33</td>\n",
       "      <td>01/22/2016 17:34</td>\n",
       "      <td>unknown</td>\n",
       "      <td>unknown</td>\n",
       "      <td>2347 Salisbury Dr, San Diego, CA 92123, USA</td>\n",
       "      <td>679.0</td>\n",
       "      <td>Green6, Farzad</td>\n",
       "      <td>...</td>\n",
       "      <td>0.0</td>\n",
       "      <td>NaN</td>\n",
       "      <td>NaN</td>\n",
       "      <td>NaN</td>\n",
       "      <td>0.0</td>\n",
       "      <td>NaN</td>\n",
       "      <td>NaN</td>\n",
       "      <td>0</td>\n",
       "      <td>-</td>\n",
       "      <td>0.0</td>\n",
       "    </tr>\n",
       "    <tr>\n",
       "      <th>1</th>\n",
       "      <td>NaN</td>\n",
       "      <td>19752726</td>\n",
       "      <td>01/22/2016</td>\n",
       "      <td>01/22/2016 17:47</td>\n",
       "      <td>01/22/2016 17:48</td>\n",
       "      <td>TEST</td>\n",
       "      <td>123 Camino De La Reina, San Diego, CA, United ...</td>\n",
       "      <td>San Diego International Airport, North Harbor ...</td>\n",
       "      <td>726.0</td>\n",
       "      <td>Green, Corrie</td>\n",
       "      <td>...</td>\n",
       "      <td>50.0</td>\n",
       "      <td>NaN</td>\n",
       "      <td>NaN</td>\n",
       "      <td>NaN</td>\n",
       "      <td>50.0</td>\n",
       "      <td>NaN</td>\n",
       "      <td>NaN</td>\n",
       "      <td>0</td>\n",
       "      <td>C</td>\n",
       "      <td>0.0</td>\n",
       "    </tr>\n",
       "    <tr>\n",
       "      <th>2</th>\n",
       "      <td>NaN</td>\n",
       "      <td>19752839</td>\n",
       "      <td>01/22/2016</td>\n",
       "      <td>01/22/2016 18:02</td>\n",
       "      <td>01/22/2016 19:07</td>\n",
       "      <td>unknown</td>\n",
       "      <td>unknown</td>\n",
       "      <td>2347 Salisbury Dr, San Diego, CA 92123, USA</td>\n",
       "      <td>679.0</td>\n",
       "      <td>Green6, Farzad</td>\n",
       "      <td>...</td>\n",
       "      <td>0.0</td>\n",
       "      <td>NaN</td>\n",
       "      <td>NaN</td>\n",
       "      <td>NaN</td>\n",
       "      <td>0.0</td>\n",
       "      <td>NaN</td>\n",
       "      <td>NaN</td>\n",
       "      <td>0</td>\n",
       "      <td>-</td>\n",
       "      <td>0.0</td>\n",
       "    </tr>\n",
       "    <tr>\n",
       "      <th>3</th>\n",
       "      <td>NaN</td>\n",
       "      <td>19754683</td>\n",
       "      <td>01/22/2016</td>\n",
       "      <td>01/22/2016 23:57</td>\n",
       "      <td>01/22/2016 23:59</td>\n",
       "      <td>Ferdous</td>\n",
       "      <td>2347 Salisbury Drive, San Diego, CA, United St...</td>\n",
       "      <td>Downtown San Diego, San Diego, CA, United States</td>\n",
       "      <td>275.0</td>\n",
       "      <td>iPhone7, Suzette</td>\n",
       "      <td>...</td>\n",
       "      <td>0.0</td>\n",
       "      <td>NaN</td>\n",
       "      <td>NaN</td>\n",
       "      <td>NaN</td>\n",
       "      <td>0.0</td>\n",
       "      <td>NaN</td>\n",
       "      <td>NaN</td>\n",
       "      <td>0</td>\n",
       "      <td>-</td>\n",
       "      <td>0.0</td>\n",
       "    </tr>\n",
       "    <tr>\n",
       "      <th>4</th>\n",
       "      <td>NaN</td>\n",
       "      <td>19757548</td>\n",
       "      <td>01/23/2016</td>\n",
       "      <td>01/23/2016 13:30</td>\n",
       "      <td>01/23/2016 14:15</td>\n",
       "      <td>Roselyn</td>\n",
       "      <td>San Diego International Airport, North Harbor ...</td>\n",
       "      <td>3075 Carlsbad Boulevard, Carlsbad, CA, United ...</td>\n",
       "      <td>679.0</td>\n",
       "      <td>Green6, Farzad</td>\n",
       "      <td>...</td>\n",
       "      <td>64.0</td>\n",
       "      <td>NaN</td>\n",
       "      <td>NaN</td>\n",
       "      <td>NaN</td>\n",
       "      <td>64.0</td>\n",
       "      <td>NaN</td>\n",
       "      <td>NaN</td>\n",
       "      <td>0</td>\n",
       "      <td>C</td>\n",
       "      <td>0.0</td>\n",
       "    </tr>\n",
       "  </tbody>\n",
       "</table>\n",
       "<p>5 rows × 23 columns</p>\n",
       "</div>"
      ],
      "text/plain": [
       "  Account       Job        Date             Start               End Passenger  \\\n",
       "0     NaN  19752637  01/22/2016  01/22/2016 17:33  01/22/2016 17:34   unknown   \n",
       "1     NaN  19752726  01/22/2016  01/22/2016 17:47  01/22/2016 17:48      TEST   \n",
       "2     NaN  19752839  01/22/2016  01/22/2016 18:02  01/22/2016 19:07   unknown   \n",
       "3     NaN  19754683  01/22/2016  01/22/2016 23:57  01/22/2016 23:59   Ferdous   \n",
       "4     NaN  19757548  01/23/2016  01/23/2016 13:30  01/23/2016 14:15   Roselyn   \n",
       "\n",
       "                                              Pickup  \\\n",
       "0                                            unknown   \n",
       "1  123 Camino De La Reina, San Diego, CA, United ...   \n",
       "2                                            unknown   \n",
       "3  2347 Salisbury Drive, San Diego, CA, United St...   \n",
       "4  San Diego International Airport, North Harbor ...   \n",
       "\n",
       "                                             Dropoff    Car            Driver  \\\n",
       "0        2347 Salisbury Dr, San Diego, CA 92123, USA  679.0    Green6, Farzad   \n",
       "1  San Diego International Airport, North Harbor ...  726.0     Green, Corrie   \n",
       "2        2347 Salisbury Dr, San Diego, CA 92123, USA  679.0    Green6, Farzad   \n",
       "3   Downtown San Diego, San Diego, CA, United States  275.0  iPhone7, Suzette   \n",
       "4  3075 Carlsbad Boulevard, Carlsbad, CA, United ...  679.0    Green6, Farzad   \n",
       "\n",
       "    ...     Tariff  Extra1  Extra2  Extra3  Subtotal  E-ticket  E-ticket ref  \\\n",
       "0   ...        0.0     NaN     NaN     NaN       0.0       NaN           NaN   \n",
       "1   ...       50.0     NaN     NaN     NaN      50.0       NaN           NaN   \n",
       "2   ...        0.0     NaN     NaN     NaN       0.0       NaN           NaN   \n",
       "3   ...        0.0     NaN     NaN     NaN       0.0       NaN           NaN   \n",
       "4   ...       64.0     NaN     NaN     NaN      64.0       NaN           NaN   \n",
       "\n",
       "   Discount  FOP  Payable  \n",
       "0         0    -      0.0  \n",
       "1         0    C      0.0  \n",
       "2         0    -      0.0  \n",
       "3         0    -      0.0  \n",
       "4         0    C      0.0  \n",
       "\n",
       "[5 rows x 23 columns]"
      ]
     },
     "execution_count": 3,
     "metadata": {},
     "output_type": "execute_result"
    }
   ],
   "source": [
    "grn.head()"
   ]
  },
  {
   "cell_type": "code",
   "execution_count": 4,
   "metadata": {},
   "outputs": [
    {
     "data": {
      "text/plain": [
       "Index(['Account', 'Job', 'Date', 'Start', 'End', 'Passenger', 'Pickup',\n",
       "       'Dropoff', 'Car', 'Driver', 'Costcode', 'Project', 'Reference',\n",
       "       'Tariff', 'Extra1', 'Extra2', 'Extra3', 'Subtotal', 'E-ticket',\n",
       "       'E-ticket ref', 'Discount', 'FOP', 'Payable'],\n",
       "      dtype='object')"
      ]
     },
     "execution_count": 4,
     "metadata": {},
     "output_type": "execute_result"
    }
   ],
   "source": [
    "grn.columns"
   ]
  },
  {
   "cell_type": "markdown",
   "metadata": {},
   "source": [
    "# ????? Least number of values\n",
    "# https://pandas.pydata.org/pandas-docs/stable/reference/api/pandas.Series.str.slice.html"
   ]
  },
  {
   "cell_type": "code",
   "execution_count": 5,
   "metadata": {},
   "outputs": [
    {
     "data": {
      "text/plain": [
       "02/1    1349\n",
       "03/1    1320\n",
       "02/0    1303\n",
       "02/2    1270\n",
       "04/2    1232\n",
       "06/1    1134\n",
       "04/0    1131\n",
       "03/2    1129\n",
       "04/1    1100\n",
       "07/2    1100\n",
       "03/0    1092\n",
       "05/2    1089\n",
       "06/2    1074\n",
       "05/1    1057\n",
       "07/1    1053\n",
       "05/0    1024\n",
       "01/2    1006\n",
       "06/0     936\n",
       "10/1     842\n",
       "07/0     833\n",
       "09/2     825\n",
       "10/2     801\n",
       "09/1     768\n",
       "11/0     749\n",
       "11/1     743\n",
       "12/0     731\n",
       "08/2     708\n",
       "10/0     693\n",
       "01/1     679\n",
       "08/1     664\n",
       "09/0     658\n",
       "12/1     590\n",
       "08/0     567\n",
       "11/2     564\n",
       "12/2     529\n",
       "01/0     433\n",
       "01/3     285\n",
       "03/3     249\n",
       "07/3     179\n",
       "05/3     174\n",
       "08/3     138\n",
       "10/3     136\n",
       "04/3     116\n",
       "06/3     110\n",
       "12/3      90\n",
       "09/3      73\n",
       "11/3      65\n",
       "Name: Date, dtype: int64"
      ]
     },
     "execution_count": 5,
     "metadata": {},
     "output_type": "execute_result"
    }
   ],
   "source": [
    "grn.Date.str.slice(0, 4).value_counts()"
   ]
  },
  {
   "cell_type": "code",
   "execution_count": 6,
   "metadata": {},
   "outputs": [
    {
     "data": {
      "text/plain": [
       "0        01/2\n",
       "1        01/2\n",
       "2        01/2\n",
       "3        01/2\n",
       "4        01/2\n",
       "5        01/2\n",
       "6        01/2\n",
       "7        01/2\n",
       "8        01/2\n",
       "9        01/2\n",
       "10       01/2\n",
       "11       01/2\n",
       "12       01/2\n",
       "13       01/2\n",
       "14       01/2\n",
       "15       01/2\n",
       "16       01/2\n",
       "17       01/2\n",
       "18       01/2\n",
       "19       01/2\n",
       "20       01/2\n",
       "21       01/2\n",
       "22       01/2\n",
       "23       01/2\n",
       "24       01/2\n",
       "25       01/2\n",
       "26       01/2\n",
       "27       01/2\n",
       "28       01/2\n",
       "29       01/2\n",
       "         ... \n",
       "34361    01/2\n",
       "34362    01/2\n",
       "34363    01/2\n",
       "34364    01/2\n",
       "34365    01/2\n",
       "34366    01/2\n",
       "34367    01/2\n",
       "34368    01/2\n",
       "34369    02/0\n",
       "34370    02/0\n",
       "34371    02/0\n",
       "34372    02/0\n",
       "34373    01/2\n",
       "34374    02/0\n",
       "34375    02/0\n",
       "34376    02/0\n",
       "34377    02/0\n",
       "34378    02/0\n",
       "34379    02/0\n",
       "34380    01/3\n",
       "34381    02/0\n",
       "34382    02/0\n",
       "34383    02/0\n",
       "34384    02/0\n",
       "34385    02/0\n",
       "34386    02/0\n",
       "34387    02/0\n",
       "34388    02/0\n",
       "34389    02/0\n",
       "34390    02/0\n",
       "Name: Date, Length: 34391, dtype: object"
      ]
     },
     "execution_count": 6,
     "metadata": {},
     "output_type": "execute_result"
    }
   ],
   "source": [
    "grn.Date.str.slice(0, 4)"
   ]
  },
  {
   "cell_type": "code",
   "execution_count": 7,
   "metadata": {},
   "outputs": [
    {
     "data": {
      "text/plain": [
       "Index(['Account', 'Job', 'Date', 'Start', 'End', 'Passenger', 'Pickup',\n",
       "       'Dropoff', 'Car', 'Driver', 'Costcode', 'Project', 'Reference',\n",
       "       'Tariff', 'Extra1', 'Extra2', 'Extra3', 'Subtotal', 'E-ticket',\n",
       "       'E-ticket ref', 'Discount', 'FOP', 'Payable'],\n",
       "      dtype='object')"
      ]
     },
     "execution_count": 7,
     "metadata": {},
     "output_type": "execute_result"
    }
   ],
   "source": [
    "grn.columns"
   ]
  },
  {
   "cell_type": "code",
   "execution_count": 8,
   "metadata": {},
   "outputs": [],
   "source": [
    "grn.columns = grn.columns.str.replace(' ', '_')"
   ]
  },
  {
   "cell_type": "code",
   "execution_count": 9,
   "metadata": {},
   "outputs": [
    {
     "data": {
      "text/plain": [
       "Index(['Account', 'Job', 'Date', 'Start', 'End', 'Passenger', 'Pickup',\n",
       "       'Dropoff', 'Car', 'Driver', 'Costcode', 'Project', 'Reference',\n",
       "       'Tariff', 'Extra1', 'Extra2', 'Extra3', 'Subtotal', 'E-ticket',\n",
       "       'E-ticket_ref', 'Discount', 'FOP', 'Payable'],\n",
       "      dtype='object')"
      ]
     },
     "execution_count": 9,
     "metadata": {},
     "output_type": "execute_result"
    }
   ],
   "source": [
    "grn.columns"
   ]
  },
  {
   "cell_type": "code",
   "execution_count": 10,
   "metadata": {},
   "outputs": [],
   "source": [
    "combined = grn.Dropoff.str.cat(grn.End, sep=' ')"
   ]
  },
  {
   "cell_type": "code",
   "execution_count": 11,
   "metadata": {},
   "outputs": [
    {
     "data": {
      "text/plain": [
       "0        2347 Salisbury Dr, San Diego, CA 92123, USA 01...\n",
       "1        San Diego International Airport, North Harbor ...\n",
       "2        2347 Salisbury Dr, San Diego, CA 92123, USA 01...\n",
       "3        Downtown San Diego, San Diego, CA, United Stat...\n",
       "4        3075 Carlsbad Boulevard, Carlsbad, CA, United ...\n",
       "5        DoubleTree by Hilton Hotel San Diego Hotel Cir...\n",
       "6            San Diego, CA, United States 01/23/2016 21:25\n",
       "7        San Diego Airport, North Harbor Drive, San Die...\n",
       "8        San Diego Airport, North Harbor Drive, San Die...\n",
       "9        San Diego International Airport, North Harbor ...\n",
       "10       San Diego International Airport, North Harbor ...\n",
       "11       San Diego International Airport, North Harbor ...\n",
       "12       Hyatt Regency Mission Bay Spa and Marina, Quiv...\n",
       "13       4925 Maynard Street, San Diego, CA, United Sta...\n",
       "14       2168-2186 Avenida De La Playa, La Jolla, CA 92...\n",
       "15       4233 Sunnyhill Dr, Carlsbad, CA 92008, United ...\n",
       "16       Old Town, San Diego, CA, United States 01/25/2...\n",
       "17       3336 Appian Rd, Carlsbad, CA 92010, United Sta...\n",
       "18       King's Fish House, Camino De La Reina, San Die...\n",
       "19       San Diego International Airport, North Harbor ...\n",
       "20       Best Western Plus Island Palms Hotel & Marina,...\n",
       "21       Best Western Seven Seas, Hotel Circle South, S...\n",
       "22       325 S Sierra Ave, Solana Beach, CA 92075, Unit...\n",
       "23       1710 Dana Landing Rd, San Diego, CA 92109 01/2...\n",
       "24       3951-4009 Groton St, San Diego, CA 92110 01/26...\n",
       "25       44-98 Tuna Ln, San Diego, CA 92101, USA 01/26/...\n",
       "26       123 Camino De La Reina, San Diego, CA, United ...\n",
       "27       San Diego International Airport, North Harbor ...\n",
       "28       3919-3929 W Point Loma Blvd, San Diego, CA 921...\n",
       "29       1108-1124 Sea World Dr, San Diego, CA 92109, U...\n",
       "                               ...                        \n",
       "34361      Terminal 2, San Diego, CA, USA 01/28/2019 19:53\n",
       "34362       Terminal 2, San Diego, CA, USA 01/25/2019 5:50\n",
       "34363    Vons, Adams Avenue, San Diego, CA, USA 01/24/2...\n",
       "34364       Terminal 2, San Diego, CA, USA 01/25/2019 4:07\n",
       "34365       Terminal 2, San Diego, CA, USA 01/23/2019 5:47\n",
       "34366    326 San Antonio Avenue, San Diego, CA, USA 01/...\n",
       "34367    Best Western Plus Hacienda Hotel Old Town, Har...\n",
       "34368       Terminal 2, San Diego, CA, USA 01/25/2019 4:32\n",
       "34369       Terminal 2, San Diego, CA, USA 02/02/2019 6:10\n",
       "34370         Downtown, San Diego, CA, USA 02/02/2019 9:51\n",
       "34371    3902-7 Vista Campana North, Oceanside, CA 9205...\n",
       "34372       Terminal 2, San Diego, CA, USA 02/02/2019 4:55\n",
       "34373       Terminal 2, San Diego, CA, USA 01/29/2019 4:36\n",
       "34374    Domino's Pizza (Military Base), McAs Air Sta, ...\n",
       "34375    3200 Norman Scott Road, San Diego, CA, USA 02/...\n",
       "34376    San Diego Airport (SAN), North Harbor Drive, S...\n",
       "34377    Cross Border Xpress, Otay Pacific Drive, San D...\n",
       "34378    Seaport Village, San Diego, CA, USA 02/05/2019...\n",
       "34379       Terminal 2, San Diego, CA, USA 02/01/2019 6:12\n",
       "34380    6776 Avena Ct E, Carlsbad, CA, USA 01/31/2019 ...\n",
       "34381        Downtown, San Diego, CA, USA 02/01/2019 18:46\n",
       "34382    750 Beech Street, San Diego, CA, USA 02/01/201...\n",
       "34383       Terminal 2, San Diego, CA, USA 02/07/2019 9:29\n",
       "34384       Terminal 2, San Diego, CA, USA 02/07/2019 7:38\n",
       "34385       Terminal 2, San Diego, CA, USA 02/08/2019 5:48\n",
       "34386        Downtown, San Diego, CA, USA 02/08/2019 21:04\n",
       "34387    1516 Pacific Beach Drive, San Diego, CA, USA 0...\n",
       "34388    Greyhound Bus Terminal, Trolley Plaza, San Die...\n",
       "34389    UCSD, Campus Point Drive, La Jolla, CA, USA 02...\n",
       "34390    2195 Station Village Way, San Diego, CA, USA 0...\n",
       "Name: Dropoff, Length: 34391, dtype: object"
      ]
     },
     "execution_count": 11,
     "metadata": {},
     "output_type": "execute_result"
    }
   ],
   "source": [
    "combined"
   ]
  },
  {
   "cell_type": "markdown",
   "metadata": {},
   "source": [
    "# Datetime Datapye"
   ]
  },
  {
   "cell_type": "code",
   "execution_count": 12,
   "metadata": {},
   "outputs": [],
   "source": [
    "#green['stop_datetime'] = pd.to_datetime(combined)"
   ]
  },
  {
   "cell_type": "code",
   "execution_count": 13,
   "metadata": {},
   "outputs": [
    {
     "data": {
      "text/plain": [
       "Account          object\n",
       "Job               int64\n",
       "Date             object\n",
       "Start            object\n",
       "End              object\n",
       "Passenger        object\n",
       "Pickup           object\n",
       "Dropoff          object\n",
       "Car             float64\n",
       "Driver           object\n",
       "Costcode        float64\n",
       "Project         float64\n",
       "Reference       float64\n",
       "Tariff          float64\n",
       "Extra1          float64\n",
       "Extra2          float64\n",
       "Extra3          float64\n",
       "Subtotal        float64\n",
       "E-ticket        float64\n",
       "E-ticket_ref    float64\n",
       "Discount          int64\n",
       "FOP              object\n",
       "Payable         float64\n",
       "dtype: object"
      ]
     },
     "execution_count": 13,
     "metadata": {},
     "output_type": "execute_result"
    }
   ],
   "source": [
    "grn.dtypes"
   ]
  },
  {
   "cell_type": "code",
   "execution_count": 14,
   "metadata": {},
   "outputs": [],
   "source": [
    "#green.stop_datetime.dt.year"
   ]
  },
  {
   "cell_type": "code",
   "execution_count": 15,
   "metadata": {},
   "outputs": [
    {
     "data": {
      "text/plain": [
       "Index(['Account', 'Job', 'Date', 'Start', 'End', 'Passenger', 'Pickup',\n",
       "       'Dropoff', 'Car', 'Driver', 'Costcode', 'Project', 'Reference',\n",
       "       'Tariff', 'Extra1', 'Extra2', 'Extra3', 'Subtotal', 'E-ticket',\n",
       "       'E-ticket_ref', 'Discount', 'FOP', 'Payable'],\n",
       "      dtype='object')"
      ]
     },
     "execution_count": 15,
     "metadata": {},
     "output_type": "execute_result"
    }
   ],
   "source": [
    "grn.columns"
   ]
  },
  {
   "cell_type": "code",
   "execution_count": 16,
   "metadata": {},
   "outputs": [
    {
     "data": {
      "text/plain": [
       "<pandas.plotting._core.SeriesPlotMethods object at 0x0000019D44513F28>"
      ]
     },
     "execution_count": 16,
     "metadata": {},
     "output_type": "execute_result"
    }
   ],
   "source": [
    "grn.Driver.plot"
   ]
  },
  {
   "cell_type": "code",
   "execution_count": 17,
   "metadata": {},
   "outputs": [
    {
     "data": {
      "text/plain": [
       "<matplotlib.axes._subplots.AxesSubplot at 0x19d446226a0>"
      ]
     },
     "execution_count": 17,
     "metadata": {},
     "output_type": "execute_result"
    }
   ],
   "source": [
    "grn.groupby(grn.Tariff).Subtotal.mean().plot()"
   ]
  },
  {
   "cell_type": "code",
   "execution_count": 18,
   "metadata": {},
   "outputs": [
    {
     "data": {
      "text/plain": [
       "<matplotlib.axes._subplots.AxesSubplot at 0x19d40219320>"
      ]
     },
     "execution_count": 18,
     "metadata": {},
     "output_type": "execute_result"
    },
    {
     "data": {
      "image/png": "[encoded data removed]",
      "text/plain": [
       "<Figure size 432x288 with 1 Axes>"
      ]
     },
     "metadata": {
      "needs_background": "light"
     },
     "output_type": "display_data"
    }
   ],
   "source": [
    "grn.groupby(grn.Driver).Subtotal.mean().plot()"
   ]
  },
  {
   "cell_type": "code",
   "execution_count": 19,
   "metadata": {
    "scrolled": true
   },
   "outputs": [
    {
     "data": {
      "text/plain": [
       "<matplotlib.axes._subplots.AxesSubplot at 0x19d449f9c88>"
      ]
     },
     "execution_count": 19,
     "metadata": {},
     "output_type": "execute_result"
    },
    {
     "data": {
      "image/png": "[encoded data removed]",
      "text/plain": [
       "<Figure size 432x288 with 1 Axes>"
      ]
     },
     "metadata": {
      "needs_background": "light"
     },
     "output_type": "display_data"
    }
   ],
   "source": [
    "grn.groupby(grn.Driver).Subtotal.count().plot()"
   ]
  },
  {
   "cell_type": "code",
   "execution_count": 20,
   "metadata": {},
   "outputs": [
    {
     "data": {
      "text/plain": [
       "<matplotlib.axes._subplots.AxesSubplot at 0x19d401ae128>"
      ]
     },
     "execution_count": 20,
     "metadata": {},
     "output_type": "execute_result"
    },
    {
     "data": {
      "image/png": "[encoded data removed]",
      "text/plain": [
       "<Figure size 432x288 with 1 Axes>"
      ]
     },
     "metadata": {
      "needs_background": "light"
     },
     "output_type": "display_data"
    }
   ],
   "source": [
    "grn.groupby(grn.Date).Subtotal.count().plot()"
   ]
  },
  {
   "cell_type": "code",
   "execution_count": 21,
   "metadata": {
    "scrolled": false
   },
   "outputs": [
    {
     "data": {
      "text/plain": [
       "<matplotlib.axes._subplots.AxesSubplot at 0x19d44e27dd8>"
      ]
     },
     "execution_count": 21,
     "metadata": {},
     "output_type": "execute_result"
    },
    {
     "data": {
      "image/png": "[encoded data removed]",
      "text/plain": [
       "<Figure size 432x288 with 1 Axes>"
      ]
     },
     "metadata": {
      "needs_background": "light"
     },
     "output_type": "display_data"
    }
   ],
   "source": [
    "grn.groupby(grn.Date).Subtotal.mean().plot()"
   ]
  },
  {
   "cell_type": "code",
   "execution_count": 22,
   "metadata": {},
   "outputs": [
    {
     "data": {
      "text/plain": [
       "<matplotlib.axes._subplots.AxesSubplot at 0x19d44f87d30>"
      ]
     },
     "execution_count": 22,
     "metadata": {},
     "output_type": "execute_result"
    },
    {
     "data": {
      "image/png": "[encoded data removed]",
      "text/plain": [
       "<Figure size 432x288 with 1 Axes>"
      ]
     },
     "metadata": {
      "needs_background": "light"
     },
     "output_type": "display_data"
    }
   ],
   "source": [
    "grn.groupby(grn.Date).Subtotal.count().plot()"
   ]
  },
  {
   "cell_type": "markdown",
   "metadata": {},
   "source": [
    "# new_df = df.rename(columns={'new_name':'old_name'})"
   ]
  },
  {
   "cell_type": "code",
   "execution_count": 23,
   "metadata": {},
   "outputs": [],
   "source": [
    "new_grn = grn.rename(columns={'Car':'Vehicle_#'})"
   ]
  },
  {
   "cell_type": "code",
   "execution_count": 24,
   "metadata": {},
   "outputs": [
    {
     "data": {
      "text/plain": [
       "Index(['Account', 'Job', 'Date', 'Start', 'End', 'Passenger', 'Pickup',\n",
       "       'Dropoff', 'Vehicle_#', 'Driver', 'Costcode', 'Project', 'Reference',\n",
       "       'Tariff', 'Extra1', 'Extra2', 'Extra3', 'Subtotal', 'E-ticket',\n",
       "       'E-ticket_ref', 'Discount', 'FOP', 'Payable'],\n",
       "      dtype='object')"
      ]
     },
     "execution_count": 24,
     "metadata": {},
     "output_type": "execute_result"
    }
   ],
   "source": [
    "new_grn.columns"
   ]
  },
  {
   "cell_type": "code",
   "execution_count": 25,
   "metadata": {},
   "outputs": [
    {
     "data": {
      "text/plain": [
       "<matplotlib.axes._subplots.AxesSubplot at 0x19d44fb9e80>"
      ]
     },
     "execution_count": 25,
     "metadata": {},
     "output_type": "execute_result"
    },
    {
     "data": {
      "image/png": "[encoded data removed]",
      "text/plain": [
       "<Figure size 432x288 with 1 Axes>"
      ]
     },
     "metadata": {
      "needs_background": "light"
     },
     "output_type": "display_data"
    }
   ],
   "source": [
    "grn.groupby(grn.Car).Subtotal.mean().plot()"
   ]
  },
  {
   "cell_type": "code",
   "execution_count": 26,
   "metadata": {},
   "outputs": [
    {
     "data": {
      "text/plain": [
       "Index(['Account', 'Job', 'Date', 'Start', 'End', 'Passenger', 'Pickup',\n",
       "       'Dropoff', 'Car', 'Driver', 'Costcode', 'Project', 'Reference',\n",
       "       'Tariff', 'Extra1', 'Extra2', 'Extra3', 'Subtotal', 'E-ticket',\n",
       "       'E-ticket_ref', 'Discount', 'FOP', 'Payable'],\n",
       "      dtype='object')"
      ]
     },
     "execution_count": 26,
     "metadata": {},
     "output_type": "execute_result"
    }
   ],
   "source": [
    "grn.columns"
   ]
  },
  {
   "cell_type": "code",
   "execution_count": 27,
   "metadata": {},
   "outputs": [
    {
     "data": {
      "text/plain": [
       "<matplotlib.axes._subplots.AxesSubplot at 0x19d4494e940>"
      ]
     },
     "execution_count": 27,
     "metadata": {},
     "output_type": "execute_result"
    },
    {
     "data": {
      "image/png": "[encoded data removed]",
      "text/plain": [
       "<Figure size 432x288 with 1 Axes>"
      ]
     },
     "metadata": {
      "needs_background": "light"
     },
     "output_type": "display_data"
    }
   ],
   "source": [
    "grn.groupby(grn.Start).End.count().plot()"
   ]
  },
  {
   "cell_type": "code",
   "execution_count": 35,
   "metadata": {},
   "outputs": [
    {
     "data": {
      "text/plain": [
       "<matplotlib.axes._subplots.AxesSubplot at 0x19d473ddb70>"
      ]
     },
     "execution_count": 35,
     "metadata": {},
     "output_type": "execute_result"
    },
    {
     "data": {
      "image/png": "[encoded data removed]",
      "text/plain": [
       "<Figure size 432x288 with 1 Axes>"
      ]
     },
     "metadata": {
      "needs_background": "light"
     },
     "output_type": "display_data"
    }
   ],
   "source": [
    "grn.groupby(grn.End).count().plot()"
   ]
  },
  {
   "cell_type": "code",
   "execution_count": 34,
   "metadata": {},
   "outputs": [
    {
     "data": {
      "text/plain": [
       "<matplotlib.axes._subplots.AxesSubplot at 0x19d475dfc50>"
      ]
     },
     "execution_count": 34,
     "metadata": {},
     "output_type": "execute_result"
    },
    {
     "data": {
      "image/png": "[encoded data removed]",
      "text/plain": [
       "<Figure size 432x288 with 1 Axes>"
      ]
     },
     "metadata": {
      "needs_background": "light"
     },
     "output_type": "display_data"
    }
   ],
   "source": [
    "grn.groupby(grn.Start).count().plot()"
   ]
  },
  {
   "cell_type": "code",
   "execution_count": 33,
   "metadata": {},
   "outputs": [
    {
     "data": {
      "text/plain": [
       "<matplotlib.axes._subplots.AxesSubplot at 0x19d474fc978>"
      ]
     },
     "execution_count": 33,
     "metadata": {},
     "output_type": "execute_result"
    },
    {
     "data": {
      "image/png": "[encoded data removed]",
      "text/plain": [
       "<Figure size 432x288 with 1 Axes>"
      ]
     },
     "metadata": {
      "needs_background": "light"
     },
     "output_type": "display_data"
    }
   ],
   "source": [
    "grn.groupby(grn.Start).Start.count().plot()"
   ]
  },
  {
   "cell_type": "code",
   "execution_count": 36,
   "metadata": {},
   "outputs": [
    {
     "data": {
      "text/plain": [
       "Index(['Account', 'Job', 'Date', 'Start', 'End', 'Passenger', 'Pickup',\n",
       "       'Dropoff', 'Car', 'Driver', 'Costcode', 'Project', 'Reference',\n",
       "       'Tariff', 'Extra1', 'Extra2', 'Extra3', 'Subtotal', 'E-ticket',\n",
       "       'E-ticket_ref', 'Discount', 'FOP', 'Payable'],\n",
       "      dtype='object')"
      ]
     },
     "execution_count": 36,
     "metadata": {},
     "output_type": "execute_result"
    }
   ],
   "source": [
    "grn.columns"
   ]
  },
  {
   "cell_type": "markdown",
   "metadata": {},
   "source": [
    "# Fix Bad rows in a column"
   ]
  },
  {
   "cell_type": "code",
   "execution_count": 43,
   "metadata": {},
   "outputs": [
    {
     "data": {
      "text/plain": [
       "NaN                     3236\n",
       "John                     513\n",
       "Stephanie                320\n",
       "MEAL BREAK               272\n",
       "Lobby                    269\n",
       "Paul                     225\n",
       "Robert                   224\n",
       "Richard                  221\n",
       "David                    196\n",
       "Tom                      191\n",
       "Karen                    181\n",
       "Anita                    165\n",
       "Michael                  161\n",
       "Scott                    147\n",
       "c-Marites                142\n",
       "James                    140\n",
       "Rick                     138\n",
       "Susan                    136\n",
       "Jim                      133\n",
       "unknown                  129\n",
       "Steve                    128\n",
       "Nancy                    127\n",
       "Charles                  120\n",
       "Jeff                     120\n",
       "c-Danny                  120\n",
       "Marilyn                  119\n",
       "Sandra                   113\n",
       "Brian                    111\n",
       "c-Roxanne                111\n",
       "Chris                    109\n",
       "                        ... \n",
       "Cynthia Fissel             1\n",
       "Nit Cinabs                 1\n",
       "Julue                      1\n",
       "C- Zack                    1\n",
       "Daivd                      1\n",
       "Grimes                     1\n",
       "MNichael                   1\n",
       "Freddy                     1\n",
       "c-catalina                 1\n",
       "Chyrl                      1\n",
       "Lenor                      1\n",
       "James McGinn               1\n",
       "Emily                      1\n",
       "C- Nayeli                  1\n",
       "C- NIck                    1\n",
       "c-Fred                     1\n",
       "C - Tricia                 1\n",
       "alyse                      1\n",
       "Robert Beattie             1\n",
       "Nikkie                     1\n",
       "C- MARKITA                 1\n",
       "c- Cassandra               1\n",
       "C-Carla for Room 131       1\n",
       "c Antonio                  1\n",
       "Dennis Talbot              1\n",
       "Clyde                      1\n",
       "Eugene                     1\n",
       "Timonty                    1\n",
       "Doug May                   1\n",
       "Guy                        1\n",
       "Name: Passenger, Length: 7554, dtype: int64"
      ]
     },
     "execution_count": 43,
     "metadata": {},
     "output_type": "execute_result"
    }
   ],
   "source": [
    "grn.Passenger.value_counts(dropna=False)"
   ]
  },
  {
   "cell_type": "code",
   "execution_count": 44,
   "metadata": {},
   "outputs": [
    {
     "data": {
      "text/plain": [
       "John                    513\n",
       "Stephanie               320\n",
       "MEAL BREAK              272\n",
       "Lobby                   269\n",
       "Paul                    225\n",
       "Robert                  224\n",
       "Richard                 221\n",
       "David                   196\n",
       "Tom                     191\n",
       "Karen                   181\n",
       "Anita                   165\n",
       "Michael                 161\n",
       "Scott                   147\n",
       "c-Marites               142\n",
       "James                   140\n",
       "Rick                    138\n",
       "Susan                   136\n",
       "Jim                     133\n",
       "unknown                 129\n",
       "Steve                   128\n",
       "Nancy                   127\n",
       "Charles                 120\n",
       "Jeff                    120\n",
       "c-Danny                 120\n",
       "Marilyn                 119\n",
       "Sandra                  113\n",
       "Brian                   111\n",
       "c-Roxanne               111\n",
       "Chris                   109\n",
       "Jennifer                104\n",
       "                       ... \n",
       "Cynthia Fissel            1\n",
       "Nit Cinabs                1\n",
       "Julue                     1\n",
       "C- Zack                   1\n",
       "Daivd                     1\n",
       "Grimes                    1\n",
       "MNichael                  1\n",
       "Freddy                    1\n",
       "c-catalina                1\n",
       "Chyrl                     1\n",
       "Lenor                     1\n",
       "James McGinn              1\n",
       "Emily                     1\n",
       "C- Nayeli                 1\n",
       "C- NIck                   1\n",
       "c-Fred                    1\n",
       "C - Tricia                1\n",
       "alyse                     1\n",
       "Robert Beattie            1\n",
       "Nikkie                    1\n",
       "C- MARKITA                1\n",
       "c- Cassandra              1\n",
       "C-Carla for Room 131      1\n",
       "c Antonio                 1\n",
       "Dennis Talbot             1\n",
       "Clyde                     1\n",
       "Eugene                    1\n",
       "Timonty                   1\n",
       "Doug May                  1\n",
       "Horton                    1\n",
       "Name: Passenger, Length: 7553, dtype: int64"
      ]
     },
     "execution_count": 44,
     "metadata": {},
     "output_type": "execute_result"
    }
   ],
   "source": [
    "grn.Passenger.value_counts()"
   ]
  },
  {
   "cell_type": "raw",
   "metadata": {},
   "source": [
    "grn.loc[(grn.Passenger == '1') | (grn.Passenger == '2'), 'Passengers'] = 'NaN'"
   ]
  },
  {
   "cell_type": "code",
   "execution_count": 46,
   "metadata": {},
   "outputs": [
    {
     "data": {
      "text/plain": [
       "NaN                     3236\n",
       "John                     513\n",
       "Stephanie                320\n",
       "MEAL BREAK               272\n",
       "Lobby                    269\n",
       "Paul                     225\n",
       "Robert                   224\n",
       "Richard                  221\n",
       "David                    196\n",
       "Tom                      191\n",
       "Karen                    181\n",
       "Anita                    165\n",
       "Michael                  161\n",
       "Scott                    147\n",
       "c-Marites                142\n",
       "James                    140\n",
       "Rick                     138\n",
       "Susan                    136\n",
       "Jim                      133\n",
       "unknown                  129\n",
       "Steve                    128\n",
       "Nancy                    127\n",
       "Charles                  120\n",
       "Jeff                     120\n",
       "c-Danny                  120\n",
       "Marilyn                  119\n",
       "Sandra                   113\n",
       "Brian                    111\n",
       "c-Roxanne                111\n",
       "Chris                    109\n",
       "                        ... \n",
       "Cynthia Fissel             1\n",
       "Nit Cinabs                 1\n",
       "Julue                      1\n",
       "C- Zack                    1\n",
       "Daivd                      1\n",
       "Grimes                     1\n",
       "MNichael                   1\n",
       "Freddy                     1\n",
       "c-catalina                 1\n",
       "Chyrl                      1\n",
       "Lenor                      1\n",
       "James McGinn               1\n",
       "Emily                      1\n",
       "C- Nayeli                  1\n",
       "C- NIck                    1\n",
       "c-Fred                     1\n",
       "C - Tricia                 1\n",
       "alyse                      1\n",
       "Robert Beattie             1\n",
       "Nikkie                     1\n",
       "C- MARKITA                 1\n",
       "c- Cassandra               1\n",
       "C-Carla for Room 131       1\n",
       "c Antonio                  1\n",
       "Dennis Talbot              1\n",
       "Clyde                      1\n",
       "Eugene                     1\n",
       "Timonty                    1\n",
       "Doug May                   1\n",
       "Guy                        1\n",
       "Name: Passenger, Length: 7554, dtype: int64"
      ]
     },
     "execution_count": 46,
     "metadata": {},
     "output_type": "execute_result"
    }
   ],
   "source": [
    "grn.Passenger.value_counts(dropna=False)"
   ]
  },
  {
   "cell_type": "code",
   "execution_count": 47,
   "metadata": {},
   "outputs": [],
   "source": [
    "import numpy as np"
   ]
  },
  {
   "cell_type": "code",
   "execution_count": 48,
   "metadata": {},
   "outputs": [],
   "source": [
    "grn.loc[grn.Passenger == 'NaN', 'Passenger'] = np.nan"
   ]
  },
  {
   "cell_type": "code",
   "execution_count": 49,
   "metadata": {},
   "outputs": [
    {
     "data": {
      "text/plain": [
       "NaN                     3236\n",
       "John                     513\n",
       "Stephanie                320\n",
       "MEAL BREAK               272\n",
       "Lobby                    269\n",
       "Paul                     225\n",
       "Robert                   224\n",
       "Richard                  221\n",
       "David                    196\n",
       "Tom                      191\n",
       "Karen                    181\n",
       "Anita                    165\n",
       "Michael                  161\n",
       "Scott                    147\n",
       "c-Marites                142\n",
       "James                    140\n",
       "Rick                     138\n",
       "Susan                    136\n",
       "Jim                      133\n",
       "unknown                  129\n",
       "Steve                    128\n",
       "Nancy                    127\n",
       "Charles                  120\n",
       "Jeff                     120\n",
       "c-Danny                  120\n",
       "Marilyn                  119\n",
       "Sandra                   113\n",
       "Brian                    111\n",
       "c-Roxanne                111\n",
       "Chris                    109\n",
       "                        ... \n",
       "Cynthia Fissel             1\n",
       "Nit Cinabs                 1\n",
       "Julue                      1\n",
       "C- Zack                    1\n",
       "Daivd                      1\n",
       "Grimes                     1\n",
       "MNichael                   1\n",
       "Freddy                     1\n",
       "c-catalina                 1\n",
       "Chyrl                      1\n",
       "Lenor                      1\n",
       "James McGinn               1\n",
       "Emily                      1\n",
       "C- Nayeli                  1\n",
       "C- NIck                    1\n",
       "c-Fred                     1\n",
       "C - Tricia                 1\n",
       "alyse                      1\n",
       "Robert Beattie             1\n",
       "Nikkie                     1\n",
       "C- MARKITA                 1\n",
       "c- Cassandra               1\n",
       "C-Carla for Room 131       1\n",
       "c Antonio                  1\n",
       "Dennis Talbot              1\n",
       "Clyde                      1\n",
       "Eugene                     1\n",
       "Timonty                    1\n",
       "Doug May                   1\n",
       "Guy                        1\n",
       "Name: Passenger, Length: 7554, dtype: int64"
      ]
     },
     "execution_count": 49,
     "metadata": {},
     "output_type": "execute_result"
    }
   ],
   "source": [
    "grn.Passenger.value_counts(dropna=False)"
   ]
  },
  {
   "cell_type": "code",
   "execution_count": 50,
   "metadata": {},
   "outputs": [
    {
     "data": {
      "text/plain": [
       "Index(['Account', 'Job', 'Date', 'Start', 'End', 'Passenger', 'Pickup',\n",
       "       'Dropoff', 'Car', 'Driver', 'Costcode', 'Project', 'Reference',\n",
       "       'Tariff', 'Extra1', 'Extra2', 'Extra3', 'Subtotal', 'E-ticket',\n",
       "       'E-ticket_ref', 'Discount', 'FOP', 'Payable'],\n",
       "      dtype='object')"
      ]
     },
     "execution_count": 50,
     "metadata": {},
     "output_type": "execute_result"
    }
   ],
   "source": [
    "grn.columns"
   ]
  },
  {
   "cell_type": "code",
   "execution_count": 51,
   "metadata": {},
   "outputs": [
    {
     "data": {
      "text/plain": [
       "C      32040\n",
       "-       1938\n",
       "NOT      413\n",
       "Name: FOP, dtype: int64"
      ]
     },
     "execution_count": 51,
     "metadata": {},
     "output_type": "execute_result"
    }
   ],
   "source": [
    "grn.FOP.value_counts(dropna=False)"
   ]
  },
  {
   "cell_type": "code",
   "execution_count": null,
   "metadata": {},
   "outputs": [],
   "source": []
  }
 ],
 "metadata": {
  "kernelspec": {
   "display_name": "Python 3",
   "language": "python",
   "name": "python3"
  },
  "language_info": {
   "codemirror_mode": {
    "name": "ipython",
    "version": 3
   },
   "file_extension": ".py",
   "mimetype": "text/x-python",
   "name": "python",
   "nbconvert_exporter": "python",
   "pygments_lexer": "ipython3",
   "version": "3.7.1"
  }
 },
 "nbformat": 4,
 "nbformat_minor": 2
}
